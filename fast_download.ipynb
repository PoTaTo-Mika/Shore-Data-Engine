{
 "cells": [
  {
   "cell_type": "code",
   "execution_count": null,
   "id": "20065ef8",
   "metadata": {
    "vscode": {
     "languageId": "shellscript"
    }
   },
   "outputs": [],
   "source": [
    "hf download ASLP-lab/WSChuan-ASR --include \"Paraformer-large-Chuan/*\" --local-dir ./checkpoints/paraformer-chuan\n",
    "hf download funasr/paraformer-zh --local-dir ./checkpoints/paraformer-zh\n",
    "hf download funasr/ct-punc --local-dir ./checkpoints/ct-punc\n",
    "hf download Qwen/Qwen3-Omni-30B-A3B-Instruct --local-dir ./checkpoints/Qwen3-Omni-30B-A3B-Instruct"
   ]
  },
  {
   "cell_type": "code",
   "execution_count": null,
   "id": "08e2bbbd",
   "metadata": {
    "vscode": {
     "languageId": "shellscript"
    }
   },
   "outputs": [],
   "source": [
    "modelscope download --model iic/speech_paraformer-large_asr_nat-zh-cn-16k-common-vocab8404-pytorch --local_dir ./checkpoints/paraformer-zh\n",
    "modelscope download --model iic/punc_ct-transformer_zh-cn-common-vocab272727-pytorch --local_dir ./checkpoints/ct-punc\n",
    "modelscope download --model Qwen/Qwen3-Omni-30B-A3B-Instruct --local_dir ./checkpoints/Qwen3-Omni-30B-A3B-Instruct"
   ]
  }
 ],
 "metadata": {
  "kernelspec": {
   "display_name": "vits",
   "language": "python",
   "name": "python3"
  },
  "language_info": {
   "codemirror_mode": {
    "name": "ipython",
    "version": 3
   },
   "file_extension": ".py",
   "mimetype": "text/x-python",
   "name": "python",
   "nbconvert_exporter": "python",
   "pygments_lexer": "ipython3",
   "version": "3.11.5"
  }
 },
 "nbformat": 4,
 "nbformat_minor": 5
}
