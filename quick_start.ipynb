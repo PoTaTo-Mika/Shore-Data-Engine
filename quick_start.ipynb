{
 "cells": [
  {
   "cell_type": "code",
   "execution_count": 1,
   "id": "16379a47",
   "metadata": {},
   "outputs": [],
   "source": [
    "from data_process.asr.run_whisper import process_into_list as use_whisper\n",
    "from data_process.asr.run_dolphin import process_into_list as use_dolphin\n",
    "from data_process.uvr.run_demucs import process_folder as use_demucs\n",
    "from data_process.slicer.lets_slice import process_folder as slice_folder\n"
   ]
  },
  {
   "cell_type": "markdown",
   "id": "31c77bb4",
   "metadata": {},
   "source": [
    "导入必要的工具库"
   ]
  },
  {
   "cell_type": "code",
   "execution_count": 9,
   "id": "74c9e803",
   "metadata": {
    "vscode": {
     "languageId": "shellscript"
    }
   },
   "outputs": [
    {
     "name": "stdout",
     "output_type": "stream",
     "text": [
      "将在绝对路径下查找并转换文件: /mnt/shared/juice/Users/potato/Shore-Data-Engine/data\n",
      "转换完成！\n"
     ]
    }
   ],
   "source": [
    "process_folder = './data'\n",
    "!bash tools/bash_scripts/all_to_wav.sh $process_folder"
   ]
  },
  {
   "cell_type": "markdown",
   "id": "2aaa69b2",
   "metadata": {},
   "source": [
    "设置需要处理的文件夹路径"
   ]
  },
  {
   "cell_type": "code",
   "execution_count": 10,
   "id": "cc82b4ad",
   "metadata": {},
   "outputs": [
    {
     "name": "stdout",
     "output_type": "stream",
     "text": [
      "正在处理文件夹: ./data\n"
     ]
    },
    {
     "name": "stderr",
     "output_type": "stream",
     "text": [
      "100%|██████████| 3/3 [00:53<00:00, 17.68s/it]\n"
     ]
    }
   ],
   "source": [
    "import os\n",
    "folder = './data'\n",
    "print(f\"正在处理文件夹: {folder}\")\n",
    "use_demucs(folder)"
   ]
  },
  {
   "cell_type": "markdown",
   "id": "39f7ee4a",
   "metadata": {},
   "source": [
    "先进行uvr分离，得到人声，然后过切分"
   ]
  },
  {
   "cell_type": "code",
   "execution_count": 11,
   "id": "a52d2606",
   "metadata": {},
   "outputs": [
    {
     "name": "stderr",
     "output_type": "stream",
     "text": [
      "100%|██████████| 3/3 [00:53<00:00, 17.83s/it]\n"
     ]
    }
   ],
   "source": [
    "slice_folder(folder) # 切片"
   ]
  },
  {
   "cell_type": "code",
   "execution_count": null,
   "id": "fab0b445",
   "metadata": {},
   "outputs": [],
   "source": [
    "use_whisper(folder) # 外语和中文"
   ]
  },
  {
   "cell_type": "code",
   "execution_count": null,
   "id": "da96dd21",
   "metadata": {},
   "outputs": [],
   "source": [
    "use_dolphin(folder) # 中文方言和东南亚小语种"
   ]
  }
 ],
 "metadata": {
  "kernelspec": {
   "display_name": "data",
   "language": "python",
   "name": "python3"
  },
  "language_info": {
   "codemirror_mode": {
    "name": "ipython",
    "version": 3
   },
   "file_extension": ".py",
   "mimetype": "text/x-python",
   "name": "python",
   "nbconvert_exporter": "python",
   "pygments_lexer": "ipython3",
   "version": "3.10.18"
  }
 },
 "nbformat": 4,
 "nbformat_minor": 5
}
