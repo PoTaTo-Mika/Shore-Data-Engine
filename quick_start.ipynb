{
 "cells": [
  {
   "cell_type": "code",
   "execution_count": null,
   "id": "16379a47",
   "metadata": {},
   "outputs": [],
   "source": [
    "import sys\n",
    "import os\n",
    "from pathlib import Path\n",
    "\n",
    "# 设置项目根目录\n",
    "project_root = Path.cwd()  # 当前工作目录就是项目根目录\n",
    "if str(project_root) not in sys.path:\n",
    "    sys.path.insert(0, str(project_root))\n",
    "\n",
    "print(f\"项目根目录已设置为: {project_root}\")\n",
    "\n",
    "# 导入所需的处理函数\n",
    "from data_process.asr.run_whisper import process_into_list as use_whisper\n",
    "from data_process.asr.run_dolphin import process_into_list as use_dolphin\n",
    "from data_process.asr.run_funasr import process_folder as use_funasr\n",
    "from data_process.uvr.run_demucs import process_folder as use_demucs\n",
    "from data_process.slicer.lets_slice import process_folder as slice_folder"
   ]
  },
  {
   "cell_type": "markdown",
   "id": "31c77bb4",
   "metadata": {},
   "source": [
    "导入必要的工具库"
   ]
  },
  {
   "cell_type": "code",
   "execution_count": null,
   "id": "74c9e803",
   "metadata": {
    "vscode": {
     "languageId": "shellscript"
    }
   },
   "outputs": [],
   "source": [
    "process_folder = './data'\n",
    "!bash tools/bash_scripts/all_to_wav.sh $process_folder"
   ]
  },
  {
   "cell_type": "markdown",
   "id": "2aaa69b2",
   "metadata": {},
   "source": [
    "设置需要处理的文件夹路径"
   ]
  },
  {
   "cell_type": "code",
   "execution_count": null,
   "id": "cc82b4ad",
   "metadata": {},
   "outputs": [],
   "source": [
    "import os\n",
    "folder = './data'\n",
    "print(f\"正在处理文件夹: {folder}\")\n",
    "use_demucs(folder)"
   ]
  },
  {
   "cell_type": "markdown",
   "id": "39f7ee4a",
   "metadata": {},
   "source": [
    "先进行uvr分离，得到人声，然后过切分"
   ]
  },
  {
   "cell_type": "code",
   "execution_count": null,
   "id": "a52d2606",
   "metadata": {},
   "outputs": [],
   "source": [
    "slice_folder(folder) # 切片"
   ]
  },
  {
   "cell_type": "code",
   "execution_count": null,
   "id": "fab0b445",
   "metadata": {},
   "outputs": [],
   "source": [
    "use_whisper(folder) # 外语"
   ]
  },
  {
   "cell_type": "code",
   "execution_count": null,
   "id": "e49b926b",
   "metadata": {},
   "outputs": [],
   "source": [
    "use_funasr(folder) # 中文"
   ]
  },
  {
   "cell_type": "code",
   "execution_count": null,
   "id": "da96dd21",
   "metadata": {},
   "outputs": [],
   "source": [
    "use_dolphin(folder) # 中文方言和东南亚小语种"
   ]
  },
  {
   "cell_type": "code",
   "execution_count": null,
   "id": "97fd1154",
   "metadata": {},
   "outputs": [],
   "source": [
    "# 可选，用LLM润色识别结果\n",
    "from openai import OpenAI\n",
    "API_KEY = 'sk-3d75958fc9eb4d7cba8a227a1780476c'\n",
    "client = OpenAI(api_key=API_KEY, base_url=\"https://api.deepseek.com\")\n",
    "\n",
    "from tools.llm_polish import deepseek\n",
    "deepseek(\n",
    "    json_file = \"data/transcription.json\", \n",
    "    client = client,\n",
    "    fangyan = True # 是否是方言识别的内容\n",
    ")"
   ]
  }
 ],
 "metadata": {
  "kernelspec": {
   "display_name": "data",
   "language": "python",
   "name": "python3"
  },
  "language_info": {
   "codemirror_mode": {
    "name": "ipython",
    "version": 3
   },
   "file_extension": ".py",
   "mimetype": "text/x-python",
   "name": "python",
   "nbconvert_exporter": "python",
   "pygments_lexer": "ipython3",
   "version": "3.10.18"
  }
 },
 "nbformat": 4,
 "nbformat_minor": 5
}
