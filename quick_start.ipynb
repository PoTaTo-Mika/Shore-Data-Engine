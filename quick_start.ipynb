{
 "cells": [
  {
   "cell_type": "code",
   "execution_count": 12,
   "id": "16379a47",
   "metadata": {},
   "outputs": [],
   "source": [
    "from data_process.asr.run_whisper import process_into_list as use_whisper\n",
    "from data_process.asr.run_dolphin import process_into_list as use_dolphin\n",
    "from data_process.uvr.run_demucs import process_folder as use_demucs\n",
    "from data_process.slicer.lets_slice import process_folder as slice_folder\n"
   ]
  },
  {
   "cell_type": "markdown",
   "id": "31c77bb4",
   "metadata": {},
   "source": [
    "导入必要的工具库"
   ]
  },
  {
   "cell_type": "code",
   "execution_count": 13,
   "id": "74c9e803",
   "metadata": {
    "vscode": {
     "languageId": "shellscript"
    }
   },
   "outputs": [
    {
     "name": "stdout",
     "output_type": "stream",
     "text": [
      "^C\n"
     ]
    }
   ],
   "source": [
    "process_folder = './data'\n",
    "!bash tools/bash_scripts/all_to_wav.sh $process_folder"
   ]
  },
  {
   "cell_type": "markdown",
   "id": "2aaa69b2",
   "metadata": {},
   "source": [
    "设置需要处理的文件夹路径"
   ]
  },
  {
   "cell_type": "code",
   "execution_count": null,
   "id": "cc82b4ad",
   "metadata": {},
   "outputs": [
    {
     "name": "stdout",
     "output_type": "stream",
     "text": [
      "正在处理文件夹: ./data\n"
     ]
    },
    {
     "name": "stderr",
     "output_type": "stream",
     "text": [
      "100%|██████████| 3/3 [00:46<00:00, 15.44s/it]\n"
     ]
    }
   ],
   "source": [
    "import os\n",
    "folder = './data'\n",
    "print(f\"正在处理文件夹: {folder}\")\n",
    "use_demucs(folder)"
   ]
  },
  {
   "cell_type": "markdown",
   "id": "39f7ee4a",
   "metadata": {},
   "source": [
    "先进行uvr分离，得到人声，然后过切分"
   ]
  },
  {
   "cell_type": "code",
   "execution_count": null,
   "id": "a52d2606",
   "metadata": {},
   "outputs": [
    {
     "name": "stderr",
     "output_type": "stream",
     "text": [
      "100%|██████████| 3/3 [00:15<00:00,  5.33s/it]\n"
     ]
    }
   ],
   "source": [
    "slice_folder(folder) # 切片"
   ]
  },
  {
   "cell_type": "code",
   "execution_count": null,
   "id": "fab0b445",
   "metadata": {},
   "outputs": [],
   "source": [
    "use_whisper(folder) # 外语和中文"
   ]
  },
  {
   "cell_type": "code",
   "execution_count": null,
   "id": "da96dd21",
   "metadata": {},
   "outputs": [
    {
     "name": "stderr",
     "output_type": "stream",
     "text": [
      "2025-07-23 10:14:51,370 - INFO - BatchBeamSearch implementation is selected.\n",
      "2025-07-23 10:14:51,373 - INFO - Decoding device=cuda, dtype=float32\n",
      "2025-07-23 10:14:51,460 - INFO - Text tokenizer: SentencepiecesTokenizer(model=\"/home/potato/.conda/envs/data/lib/python3.10/site-packages/dolphin/assets/bpe.model\")\n",
      "Processing audio files: 100%|██████████| 174/174 [01:59<00:00,  1.46file/s]\n"
     ]
    },
    {
     "name": "stdout",
     "output_type": "stream",
     "text": [
      "找到 174 个音频文件\n",
      "总时长: 6475.68 秒 (1.80 小时)\n"
     ]
    }
   ],
   "source": [
    "use_dolphin(folder) # 中文方言和东南亚小语种"
   ]
  },
  {
   "cell_type": "code",
   "execution_count": null,
   "id": "97fd1154",
   "metadata": {},
   "outputs": [
    {
     "name": "stderr",
     "output_type": "stream",
     "text": [
      "2025-07-23 10:34:53,011 - INFO - HTTP Request: POST https://api.deepseek.com/chat/completions \"HTTP/1.1 200 OK\"\n",
      "2025-07-23 10:35:00,372 - INFO - Successfully polished the text.\n",
      "2025-07-23 10:35:00,832 - INFO - HTTP Request: POST https://api.deepseek.com/chat/completions \"HTTP/1.1 200 OK\"\n",
      "2025-07-23 10:35:08,127 - INFO - Successfully polished the text.\n",
      "2025-07-23 10:35:08,522 - INFO - HTTP Request: POST https://api.deepseek.com/chat/completions \"HTTP/1.1 200 OK\"\n",
      "2025-07-23 10:35:16,362 - INFO - Successfully polished the text.\n",
      "2025-07-23 10:35:16,761 - INFO - HTTP Request: POST https://api.deepseek.com/chat/completions \"HTTP/1.1 200 OK\"\n",
      "2025-07-23 10:35:25,843 - INFO - Successfully polished the text.\n",
      "2025-07-23 10:35:26,241 - INFO - HTTP Request: POST https://api.deepseek.com/chat/completions \"HTTP/1.1 200 OK\"\n"
     ]
    }
   ],
   "source": [
    "# 可选，用LLM润色识别结果\n",
    "from openai import OpenAI\n",
    "API_KEY = 'sk-3d75958fc9eb4d7cba8a227a1780476c'\n",
    "client = OpenAI(api_key=API_KEY, base_url=\"https://api.deepseek.com\")\n",
    "\n",
    "from tools.llm_polish import deepseek\n",
    "deepseek(\n",
    "    json_file = \"data/transcription.json\", \n",
    "    client = client,\n",
    "    fangyan = True # 是否是方言识别的内容\n",
    ")"
   ]
  }
 ],
 "metadata": {
  "kernelspec": {
   "display_name": "data",
   "language": "python",
   "name": "python3"
  },
  "language_info": {
   "codemirror_mode": {
    "name": "ipython",
    "version": 3
   },
   "file_extension": ".py",
   "mimetype": "text/x-python",
   "name": "python",
   "nbconvert_exporter": "python",
   "pygments_lexer": "ipython3",
   "version": "3.10.18"
  }
 },
 "nbformat": 4,
 "nbformat_minor": 5
}
