{
 "cells": [
  {
   "cell_type": "code",
   "execution_count": null,
   "id": "20065ef8",
   "metadata": {
    "vscode": {
     "languageId": "shellscript"
    }
   },
   "outputs": [
    {
     "ename": "SyntaxError",
     "evalue": "invalid syntax (609501783.py, line 1)",
     "output_type": "error",
     "traceback": [
      "\u001b[1;36m  Cell \u001b[1;32mIn[2], line 1\u001b[1;36m\u001b[0m\n\u001b[1;33m    hf download ASLP-lab/WSChuan-ASR/Paraformer-Large-Chuan --local-dir ./checkpoints/paraformer-large-chuan\u001b[0m\n\u001b[1;37m       ^\u001b[0m\n\u001b[1;31mSyntaxError\u001b[0m\u001b[1;31m:\u001b[0m invalid syntax\n"
     ]
    }
   ],
   "source": [
    "hf download ASLP-lab/WSChuan-ASR --include \"Paraformer-large-Chuan/*\" --local-dir ./checkpoints/paraformer-chuan\n",
    "hf download funasr/paraformer-zh --local-dir ./checkpoints/paraformer-zh\n",
    "hf download funasr/ct-punc --local-dir ./checkpoints/ct-punc"
   ]
  }
 ],
 "metadata": {
  "kernelspec": {
   "display_name": "vits",
   "language": "python",
   "name": "python3"
  },
  "language_info": {
   "codemirror_mode": {
    "name": "ipython",
    "version": 3
   },
   "file_extension": ".py",
   "mimetype": "text/x-python",
   "name": "python",
   "nbconvert_exporter": "python",
   "pygments_lexer": "ipython3",
   "version": "3.11.5"
  }
 },
 "nbformat": 4,
 "nbformat_minor": 5
}
